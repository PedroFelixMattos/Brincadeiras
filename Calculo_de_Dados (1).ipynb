{
  "nbformat": 4,
  "nbformat_minor": 0,
  "metadata": {
    "colab": {
      "provenance": []
    },
    "kernelspec": {
      "name": "python3",
      "display_name": "Python 3"
    },
    "language_info": {
      "name": "python"
    }
  },
  "cells": [
    {
      "cell_type": "code",
      "execution_count": 191,
      "metadata": {
        "id": "77lMHyIBGEUZ"
      },
      "outputs": [],
      "source": [
        "import numpy as np #importa biblioteca Numpy"
      ]
    },
    {
      "cell_type": "code",
      "source": [
        "class probabilidade_dados: # Cria a classe\n",
        "  \"\"\"\n",
        "\n",
        "  Attributes:\n",
        "    numero_dados:\n",
        "    tamanho_dados:\n",
        "    todos_resultados:\n",
        "    tamanho_min:\n",
        "    tamanho_max:\n",
        "    porcentagem:\n",
        "    valores_possiveis:\n",
        "    soma_porcentagem:\n",
        "  \"\"\"\n",
        "  def __init__(self, numero_dados= 1, tamanho_dados= 1, tamanho_min= 0, tamanho_max = (2**64), todos_resultados = True, porcentagem = False, soma_porcentagem= False):\n",
        "  # Inicia a classe com suas variaveis\n",
        "\n",
        "    #Inicializa as variaveis com os valores passados ou pré-definidos\n",
        "    #Transforma todos os numeros em Integer\n",
        "    self.numero_dados = int(numero_dados) # Quantos dados utilizados\n",
        "    self.tamanho_dados = int(tamanho_dados) # Tamanho dos dados, 4, 6, 8 lados etc...\n",
        "    self.tamanho_min = int(tamanho_min) # Tamanho minimo cuja propabilidade queremos avaliar\n",
        "\n",
        "    #Verifica se a variavel Tamanho Maximo é maior do que o numero maximo alcançavel pelo dado\n",
        "    #se não for, o Tamanho Maximo se torna o maior numero possivel\n",
        "    #Tamanho maximo cuja probabilidade queremos avaliar\n",
        "    #Caso o usuario não passe um parametro esse valor está em um numero absurdo\n",
        "    #para que entre no if e se torne igual ao maior numero alcançavel\n",
        "    if tamanho_max >= self.numero_dados*self.tamanho_dados:\n",
        "      self.tamanho_max = self.numero_dados*self.tamanho_dados #maior numero alcançavel é igual a quantidade de lados de cada dado vezes a quantidade de dados rolados\n",
        "    else:\n",
        "      self.tamanho_max = int(tamanho_max)\n",
        "\n",
        "    # Verifica se queremos todos os resultados\n",
        "    #Serve para facilitar a apresentação da função, caso o usuario não queira passar todos os parametros\n",
        "    self.todos_resultados = todos_resultados\n",
        "    if self.todos_resultados:\n",
        "      print(\"Foram pedidos todos os resultados, caso queire um resultado expecifico marque essa flag como False\")\n",
        "      self.tamanho_min = 0\n",
        "      self.tamanho_max = self.tamanho_dados*self.numero_dados\n",
        "\n",
        "    self.porcentagem=porcentagem #verifica se queremos o valor rm forma de porcentagem\n",
        "    self.soma_porcentagem= soma_porcentagem #verifica se queremos a soma da probabilidade de diversos valores\n",
        "\n",
        "    #função principal, que faz o calculo\n",
        "    self.calcular_numero_somas(n_min = self.tamanho_min, n_max = self.tamanho_max, porcentagem = self.porcentagem, soma_porcentagem= self.soma_porcentagem)\n",
        "\n",
        "  def calcular_numero_somas(self, n_min, n_max, porcentagem, soma_porcentagem):\n",
        "\n",
        "    #vetor que armazena todos os valores possiveis\n",
        "    #o maior valor possivel é caso a rolagem gere todos os maiores valores em todos os lados\n",
        "    #o valor então é somado\n",
        "    #por exemplo, 24 em 3 dados de 8 lados\n",
        "    valores_possiveis = np.zeros((self.numero_dados*self.tamanho_dados)+1)\n",
        "\n",
        "    #matriz de colunas quase iguais, caa coluna passa de 1 até o valor maximo do dado\n",
        "    #e tem linhas iguais a quantidade de dados rolados\n",
        "    #a ultima linha da matriz, inicializa-se sempre como 0\n",
        "    #ela existe para identificar quais valores serão utilizados em uma soma\n",
        "    #por exemplo se a ultima linha for [-1, 0, -3]\n",
        "    #isso significa que o programa somara os itens [0, 1] + [1, 0] + [2, 3]\n",
        "    matriz_dados = np.append(np.array(range(1, self.tamanho_dados+1)), 0)\n",
        "    for i in range(self.numero_dados-1):\n",
        "      matriz_dados = np.column_stack((matriz_dados, np.append(np.array(range(1, self.tamanho_dados+1)), 0)))\n",
        "\n",
        "    aux = self.tamanho_dados #auxiliar para facilitar os calculos e a apresentação do programa\n",
        "\n",
        "    #a primeira soma guiada pela Matriz Dados possiveis é feita antes de entrarmos nos laços de repetição\n",
        "    valores_possiveis[np.sum(matriz_dados[0,:])] += 1\n",
        "\n",
        "    continua = True # flag para continuarmos o laço de repetição inicial\n",
        "    while(continua):\n",
        "      soma = 0 # variavel soma é zerada\n",
        "      k = self.numero_dados-1 # variavel k inicia-se com o numero da ultima coluna de Matriz Dados\n",
        "\n",
        "      while(k>=0):\n",
        "        #verificamos se o ultimo elemento da coluna avaliada representa o maior valor tiravel pelo dado\n",
        "        #e assim da ultima linha da parte que desejamos avaliar da Matriz dado\n",
        "        #para evitar problemas matematicos todos os valores da ultima linha são <=0\n",
        "        #uma vez que um dado usual só tem lados positivos\n",
        "        #logo todos os valores da ultima linha, e suas consequentes analises são <=0\n",
        "        if matriz_dados[aux, k] == (self.tamanho_dados)*(-1):\n",
        "          #verificamos se TODOS os valores da ultima linha indicam o fim daquela coluna\n",
        "          #dessa forma teremos terminado a matriz e deveremos parar o laço\n",
        "          if (matriz_dados[aux, :] == (self.tamanho_dados)*(-1)).all():\n",
        "            continua = False\n",
        "            k = -1\n",
        "          #Caso continuemos os laçoes de repetição e essa coluna tenha chegado ao seu fim\n",
        "          #Re-inicializamos o ultimo valor da coluna analisada\n",
        "          #e fazemos a mesma analise na coluna anterior\n",
        "          else:\n",
        "            matriz_dados[aux, k] = 0\n",
        "            k -= 1\n",
        "        else:\n",
        "          #Caso aquela coluna não tenha chegado ao seu fim, diminuimos o valor\n",
        "          #de sua ultima linha em 1, para testes futuros\n",
        "          matriz_dados[aux, k] -= 1\n",
        "          k = -5 # k é mudado para um valor < 0, de forma a sairmos do laço de repetição\n",
        "\n",
        "          #If utilizado para que a existência da ultima linha seja ignorada durante a\n",
        "          #quantidade de somas\n",
        "          #So entramos no If se NÃO HOUVER NENHUM valor da igual ao valor maximo\n",
        "          #negativo alcançavel por ela\n",
        "          #dessa forma o vator da matriz, que existe para apontar para quais valores\n",
        "          #do resto da matriz deva ser utilizado, não possa apontar para um valor\n",
        "          #dentro da linha de controle\n",
        "          if not((matriz_dados[-1,:] == (self.tamanho_dados)*(-1)).any()):\n",
        "\n",
        "            #todos os valores apontados pela linha de controle são somados\n",
        "            for i in range(self.numero_dados):\n",
        "              soma += matriz_dados[(-1*matriz_dados[aux, i]), i]\n",
        "\n",
        "            #O vetor valores_possiveis e atualizado para representar que existe mais uma\n",
        "            #soma que resulte no valor daquele index\n",
        "            valores_possiveis[soma] += 1\n",
        "\n",
        "    #print(valores_possiveis)\n",
        "\n",
        "    #O vetor com os valores é dividido pela quantidade maxima de somas que pode ser calculada como\n",
        "    # tamanho dos dados ^ numero de dados rolados\n",
        "    if porcentagem: #verifica se desejamos o valor em porcentagem ou aritmetico\n",
        "      if soma_porcentagem: #verifica se queremos uma tabela com cada valor ou a sua soma\n",
        "        #Imprime a soma dos valores pedidos em porcentagem\n",
        "        print(\"Soma: %s%%\" % np.sum((valores_possiveis[n_min : n_max+1]/(self.tamanho_dados**self.numero_dados))*100))\n",
        "      else:\n",
        "        #Imprime a tabela dos valores pedidos em porcentagem\n",
        "        for i in range(n_min, n_max+1):\n",
        "          print(\"%s: %s%%\" % (i, (valores_possiveis[i]/(self.tamanho_dados**self.numero_dados))*100))\n",
        "    else:\n",
        "      if soma_porcentagem:\n",
        "        #Imprime a soma dos valores pedidos de forma aritmetica\n",
        "        print(\"Soma: %s\" % np.sum((valores_possiveis[n_min : n_max+1]/(self.tamanho_dados**self.numero_dados))))\n",
        "      else:\n",
        "        #Imprime a tabela dos valores pedidos de forma aritmetica\n",
        "        for i in range(n_min, n_max+1):\n",
        "          print(\"%s: %s\" % (i, (valores_possiveis[i]/(self.tamanho_dados**self.numero_dados))))"
      ],
      "metadata": {
        "id": "QQnXM3OAGe7i"
      },
      "execution_count": 192,
      "outputs": []
    },
    {
      "cell_type": "code",
      "source": [],
      "metadata": {
        "id": "ovdCzqDnNusL"
      },
      "execution_count": 192,
      "outputs": []
    },
    {
      "cell_type": "code",
      "source": [
        "probabilidade_dados(numero_dados= 3, tamanho_dados=4, tamanho_min= 3, tamanho_max= 9, todos_resultados= False, porcentagem=False, soma_porcentagem= True)"
      ],
      "metadata": {
        "colab": {
          "base_uri": "https://localhost:8080/"
        },
        "id": "HsN8FITFG_vb",
        "outputId": "919ae243-ced4-463a-80b9-d8824831485f"
      },
      "execution_count": 194,
      "outputs": [
        {
          "output_type": "stream",
          "name": "stdout",
          "text": [
            "Soma: 0.84375\n"
          ]
        },
        {
          "output_type": "execute_result",
          "data": {
            "text/plain": [
              "<__main__.probabilidade_dados at 0x7f56e21f6020>"
            ]
          },
          "metadata": {},
          "execution_count": 194
        }
      ]
    }
  ]
}